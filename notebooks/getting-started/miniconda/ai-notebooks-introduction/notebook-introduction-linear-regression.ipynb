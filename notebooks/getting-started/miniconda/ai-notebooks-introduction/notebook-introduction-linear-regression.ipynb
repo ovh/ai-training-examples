{
 "cells": [
  {
   "cell_type": "markdown",
   "id": "9e0c3bbb",
   "metadata": {},
   "source": [
    "# TUTORIAL: Create your first Machine Learning model with AI notebooks\n",
    "\n",
    "## Introduction\n",
    "\n",
    "The aim of this tutorial is to get a first idea of what can be the Machine Learning and to become familiar with OVHcloud's AI Notebooks. \n",
    "\n",
    "To do so, take an easy example of **simple linear regression** to predict the scores obtained by students as a function of the number of hours worked.\n",
    "\n",
    "## Definition\n",
    "\n",
    "Simple linear regression is a **regression model** that estimates the relationship between two independent variables using a straight line.\n",
    "\n",
    "The model is represented by a straight line: `y = a.X + b`. \n",
    "Where `a` is the slope and `b` is the intercept.\n",
    "\n",
    "The closer this line is to the line formed by the point cloud, the more accurate the model will be.\n",
    "\n",
    "## Dataset\n",
    "\n",
    "To predict a student's exam score based on the amount of time he has studied, we will use a dataset available on [Kaggle](https://www.kaggle.com/): [Students Score Dataset](https://www.kaggle.com/datasets/shubham47/students-score-dataset-linear-regression).\n",
    "\n",
    "## Code\n",
    "\n",
    "The Miniconda image is used. You will learn how to create an conda environment, install Python libraries and use them to analyse your data and obtain your first **Machine Learning** model.\n",
    "\n",
    "### Step 1 - Librairies installation and import\n",
    "\n",
    "Only three Python libraries are needed to build your first Machine Learning model.\n",
    "- Pandas\n",
    "- Matplotlib\n",
    "- Scikit-learn\n",
    "\n",
    "You can install these dependencies with the following command."
   ]
  },
  {
   "cell_type": "code",
   "execution_count": null,
   "id": "1f2c9c27",
   "metadata": {},
   "outputs": [],
   "source": [
    "!pip install --upgrade pip\n",
    "!pip install pandas matplotlib scikit-learn numpy"
   ]
  },
  {
   "cell_type": "markdown",
   "id": "a60bfa7e",
   "metadata": {},
   "source": [
    "#### ⚠️ Do not forget to restart the notebook kernel after installations\n",
    "\n",
    "Once your Python libraries have been successfully installed, you can import them and their functions."
   ]
  },
  {
   "cell_type": "code",
   "execution_count": 1,
   "id": "b67aea29",
   "metadata": {},
   "outputs": [],
   "source": [
    "import pandas as pd\n",
    "import numpy as np\n",
    "import matplotlib.pyplot as plt\n",
    "from sklearn.linear_model import LinearRegression"
   ]
  },
  {
   "cell_type": "markdown",
   "id": "9b773f53",
   "metadata": {},
   "source": [
    "### Step 2 - Visualize your data\n",
    "\n",
    "The first step is to read a comma separated value (csv) file into DataFrame."
   ]
  },
  {
   "cell_type": "code",
   "execution_count": 2,
   "id": "0a194d99",
   "metadata": {},
   "outputs": [],
   "source": [
    "# convert csv file into dataframe\n",
    "df = pd.read_csv('student_scores.csv')"
   ]
  },
  {
   "cell_type": "markdown",
   "id": "5d76a2be",
   "metadata": {},
   "source": [
    "You can then look at the data by checking the size of the dataset, the type of data or the descriptive statistics.\n",
    "\n",
    "You also need to establish what your **input** and **output** data are."
   ]
  },
  {
   "cell_type": "code",
   "execution_count": 3,
   "id": "ce070f6b",
   "metadata": {},
   "outputs": [
    {
     "data": {
      "text/html": [
       "<div>\n",
       "<style scoped>\n",
       "    .dataframe tbody tr th:only-of-type {\n",
       "        vertical-align: middle;\n",
       "    }\n",
       "\n",
       "    .dataframe tbody tr th {\n",
       "        vertical-align: top;\n",
       "    }\n",
       "\n",
       "    .dataframe thead th {\n",
       "        text-align: right;\n",
       "    }\n",
       "</style>\n",
       "<table border=\"1\" class=\"dataframe\">\n",
       "  <thead>\n",
       "    <tr style=\"text-align: right;\">\n",
       "      <th></th>\n",
       "      <th>Hours</th>\n",
       "      <th>Scores</th>\n",
       "    </tr>\n",
       "  </thead>\n",
       "  <tbody>\n",
       "    <tr>\n",
       "      <th>0</th>\n",
       "      <td>2.5</td>\n",
       "      <td>21</td>\n",
       "    </tr>\n",
       "    <tr>\n",
       "      <th>1</th>\n",
       "      <td>5.1</td>\n",
       "      <td>47</td>\n",
       "    </tr>\n",
       "    <tr>\n",
       "      <th>2</th>\n",
       "      <td>3.2</td>\n",
       "      <td>27</td>\n",
       "    </tr>\n",
       "    <tr>\n",
       "      <th>3</th>\n",
       "      <td>8.5</td>\n",
       "      <td>75</td>\n",
       "    </tr>\n",
       "    <tr>\n",
       "      <th>4</th>\n",
       "      <td>3.5</td>\n",
       "      <td>30</td>\n",
       "    </tr>\n",
       "  </tbody>\n",
       "</table>\n",
       "</div>"
      ],
      "text/plain": [
       "   Hours  Scores\n",
       "0    2.5      21\n",
       "1    5.1      47\n",
       "2    3.2      27\n",
       "3    8.5      75\n",
       "4    3.5      30"
      ]
     },
     "execution_count": 3,
     "metadata": {},
     "output_type": "execute_result"
    }
   ],
   "source": [
    "# dataframe overview \n",
    "df.head()"
   ]
  },
  {
   "cell_type": "code",
   "execution_count": 4,
   "id": "667d8526",
   "metadata": {},
   "outputs": [
    {
     "name": "stdout",
     "output_type": "stream",
     "text": [
      "Number of rows: 25\n",
      "Number of columns: 2\n"
     ]
    }
   ],
   "source": [
    "# dataframe shape\n",
    "df_shape = df.shape\n",
    "print(\"Number of rows:\", df_shape[0])\n",
    "print(\"Number of columns:\", df_shape[1])"
   ]
  },
  {
   "cell_type": "code",
   "execution_count": 5,
   "id": "5e0637a1",
   "metadata": {},
   "outputs": [
    {
     "data": {
      "text/plain": [
       "Hours     float64\n",
       "Scores      int64\n",
       "dtype: object"
      ]
     },
     "execution_count": 5,
     "metadata": {},
     "output_type": "execute_result"
    }
   ],
   "source": [
    "# data types\n",
    "df.dtypes"
   ]
  },
  {
   "cell_type": "code",
   "execution_count": 6,
   "id": "57ebc85a",
   "metadata": {},
   "outputs": [
    {
     "data": {
      "text/html": [
       "<div>\n",
       "<style scoped>\n",
       "    .dataframe tbody tr th:only-of-type {\n",
       "        vertical-align: middle;\n",
       "    }\n",
       "\n",
       "    .dataframe tbody tr th {\n",
       "        vertical-align: top;\n",
       "    }\n",
       "\n",
       "    .dataframe thead th {\n",
       "        text-align: right;\n",
       "    }\n",
       "</style>\n",
       "<table border=\"1\" class=\"dataframe\">\n",
       "  <thead>\n",
       "    <tr style=\"text-align: right;\">\n",
       "      <th></th>\n",
       "      <th>Hours</th>\n",
       "      <th>Scores</th>\n",
       "    </tr>\n",
       "  </thead>\n",
       "  <tbody>\n",
       "    <tr>\n",
       "      <th>count</th>\n",
       "      <td>25.000000</td>\n",
       "      <td>25.000000</td>\n",
       "    </tr>\n",
       "    <tr>\n",
       "      <th>mean</th>\n",
       "      <td>5.012000</td>\n",
       "      <td>51.480000</td>\n",
       "    </tr>\n",
       "    <tr>\n",
       "      <th>std</th>\n",
       "      <td>2.525094</td>\n",
       "      <td>25.286887</td>\n",
       "    </tr>\n",
       "    <tr>\n",
       "      <th>min</th>\n",
       "      <td>1.100000</td>\n",
       "      <td>17.000000</td>\n",
       "    </tr>\n",
       "    <tr>\n",
       "      <th>25%</th>\n",
       "      <td>2.700000</td>\n",
       "      <td>30.000000</td>\n",
       "    </tr>\n",
       "    <tr>\n",
       "      <th>50%</th>\n",
       "      <td>4.800000</td>\n",
       "      <td>47.000000</td>\n",
       "    </tr>\n",
       "    <tr>\n",
       "      <th>75%</th>\n",
       "      <td>7.400000</td>\n",
       "      <td>75.000000</td>\n",
       "    </tr>\n",
       "    <tr>\n",
       "      <th>max</th>\n",
       "      <td>9.200000</td>\n",
       "      <td>95.000000</td>\n",
       "    </tr>\n",
       "  </tbody>\n",
       "</table>\n",
       "</div>"
      ],
      "text/plain": [
       "           Hours     Scores\n",
       "count  25.000000  25.000000\n",
       "mean    5.012000  51.480000\n",
       "std     2.525094  25.286887\n",
       "min     1.100000  17.000000\n",
       "25%     2.700000  30.000000\n",
       "50%     4.800000  47.000000\n",
       "75%     7.400000  75.000000\n",
       "max     9.200000  95.000000"
      ]
     },
     "execution_count": 6,
     "metadata": {},
     "output_type": "execute_result"
    }
   ],
   "source": [
    "# descriptive statistics\n",
    "df.describe()"
   ]
  },
  {
   "cell_type": "markdown",
   "id": "decff106",
   "metadata": {},
   "source": [
    "Here, the **input** and **output** of our model are easily defined as there are only two variables. \n",
    "\n",
    "The aim is to predict the student's `score` from the number of `hours` worked.\n",
    "\n",
    "- Input `X`: number of `hours` worked\n",
    "- Output `y`: `score` obtained"
   ]
  },
  {
   "cell_type": "code",
   "execution_count": 7,
   "id": "e300e2c4",
   "metadata": {},
   "outputs": [],
   "source": [
    "# input\n",
    "X = df.iloc[:, :-1].values.reshape(-1, 1)"
   ]
  },
  {
   "cell_type": "code",
   "execution_count": 8,
   "id": "fdf311cd",
   "metadata": {},
   "outputs": [],
   "source": [
    "# output\n",
    "y = df.iloc[:, 1].values.reshape(-1, 1)"
   ]
  },
  {
   "cell_type": "markdown",
   "id": "56798378",
   "metadata": {},
   "source": [
    "In order to have an idea of the model to use (linear, polynomial, etc), display your data in the form of a point cloud."
   ]
  },
  {
   "cell_type": "code",
   "execution_count": 9,
   "id": "7910cb55",
   "metadata": {},
   "outputs": [
    {
     "data": {
      "image/png": "[encoded data removed]",
      "text/plain": [
       "<Figure size 432x288 with 1 Axes>"
      ]
     },
     "metadata": {
      "needs_background": "light"
     },
     "output_type": "display_data"
    }
   ],
   "source": [
    "# data visualization \n",
    "plt.scatter(X, y)\n",
    "plt.title('Score according to the number of hours worked')\n",
    "plt.xlabel('Hours (h)')\n",
    "plt.ylabel('Scores (%)')\n",
    "plt.show()"
   ]
  },
  {
   "cell_type": "markdown",
   "id": "057559d0",
   "metadata": {},
   "source": [
    "You can see a model `y = f(X)` being formed.\n",
    "\n",
    "Here it is a **simple linear regression** model.\n",
    "\n",
    "The model will be `f(X) = a.X + b`.\n",
    "\n",
    "### Step 3 - Linear regression model definition"
   ]
  },
  {
   "cell_type": "markdown",
   "id": "9a59a94b",
   "metadata": {},
   "source": [
    "`sklearn` is a library commonly used in Machine Learning.\n",
    "\n",
    "It provides a `LinearRegression` function that fits a linear model with coefficients to minimise the residual sum of squares between the observed targets in the dataset and the targets predicted by the linear approximation."
   ]
  },
  {
   "cell_type": "code",
   "execution_count": 10,
   "id": "a6ea5e4c",
   "metadata": {},
   "outputs": [],
   "source": [
    "# define the regressor as linear\n",
    "regressor = LinearRegression()\n",
    "\n",
    "# application on the dataset\n",
    "model = regressor.fit(X, y)"
   ]
  },
  {
   "cell_type": "markdown",
   "id": "17ccff99",
   "metadata": {},
   "source": [
    "The model is of the form `y = a.X + b`.\n",
    "\n",
    "Thanks to the `fit` on the data, the values of the **slope** and the **intercept** are calculated."
   ]
  },
  {
   "cell_type": "code",
   "execution_count": 11,
   "id": "dc0fa0ce",
   "metadata": {},
   "outputs": [
    {
     "name": "stdout",
     "output_type": "stream",
     "text": [
      "Slope: a = 9.775803390787468\n"
     ]
    }
   ],
   "source": [
    "# slope\n",
    "a = model.coef_\n",
    "print('Slope: a =', a.item())"
   ]
  },
  {
   "cell_type": "code",
   "execution_count": 12,
   "id": "767c5503",
   "metadata": {},
   "outputs": [
    {
     "name": "stdout",
     "output_type": "stream",
     "text": [
      "Intercept: b = 9.775803390787468\n"
     ]
    }
   ],
   "source": [
    "# intercept\n",
    "b = model.intercept_\n",
    "print('Intercept: b =', a.item())"
   ]
  },
  {
   "cell_type": "code",
   "execution_count": 13,
   "id": "51ec52af",
   "metadata": {},
   "outputs": [
    {
     "name": "stdout",
     "output_type": "stream",
     "text": [
      "y =  9.775803390787468 .X + 2.48367340537321\n"
     ]
    }
   ],
   "source": [
    "# function\n",
    "print('y = ', a.item(), '.X +', b.item())"
   ]
  },
  {
   "cell_type": "code",
   "execution_count": 14,
   "id": "610ca7b9",
   "metadata": {},
   "outputs": [],
   "source": [
    "# linear prediction line\n",
    "y_pred = model.predict(X)"
   ]
  },
  {
   "cell_type": "code",
   "execution_count": 15,
   "id": "e980d8c1",
   "metadata": {},
   "outputs": [
    {
     "data": {
      "image/png": "[encoded data removed]",
      "text/plain": [
       "<Figure size 432x288 with 1 Axes>"
      ]
     },
     "metadata": {
      "needs_background": "light"
     },
     "output_type": "display_data"
    }
   ],
   "source": [
    "# data visualization with linear prediction line\n",
    "plt.scatter(X, y)\n",
    "plt.plot(X, y_pred, color='red')\n",
    "plt.title('Score according to the number of hours worked')\n",
    "plt.xlabel('Hours (h)')\n",
    "plt.ylabel('Scores (%)')\n",
    "plt.show()"
   ]
  },
  {
   "cell_type": "markdown",
   "id": "1fdacfe8",
   "metadata": {},
   "source": [
    "### Step 4 - Model evaluation\n",
    "\n",
    "You can evaluate the performance of your model with the linear coefficient of determination **R-squared**.\n",
    "\n",
    "It is between 0 and 1. When it is close to 0, the predictive power of the model is weak and when it is close to 1, the predictive power of the model is strong."
   ]
  },
  {
   "cell_type": "code",
   "execution_count": 16,
   "id": "4e714021",
   "metadata": {},
   "outputs": [
    {
     "name": "stdout",
     "output_type": "stream",
     "text": [
      "R2 = 0.9529481969048356\n"
     ]
    }
   ],
   "source": [
    "r_squared = model.score(X, y)\n",
    "print(\"R2 =\", r_squared)"
   ]
  },
  {
   "cell_type": "markdown",
   "id": "0ac1ce2a",
   "metadata": {},
   "source": [
    "### Step 5 - Make predictions on test values\n",
    "\n",
    "Here we are testing with 2 new students. \n",
    "\n",
    "The first one worked **2.5 hours** for his exam. \n",
    "\n",
    "The second worked **9.1 hours** for the same exam. "
   ]
  },
  {
   "cell_type": "code",
   "execution_count": 17,
   "id": "8757fbbc",
   "metadata": {},
   "outputs": [],
   "source": [
    "X_test = [[2.5], [9.1]]"
   ]
  },
  {
   "cell_type": "markdown",
   "id": "831915af",
   "metadata": {},
   "source": [
    "The theoretical results for these two students are as follows:"
   ]
  },
  {
   "cell_type": "code",
   "execution_count": 18,
   "id": "b0c553ed",
   "metadata": {},
   "outputs": [
    {
     "name": "stdout",
     "output_type": "stream",
     "text": [
      "Student n°1, theorical result: 26.92 %\n",
      "Student n°2, theorical result: 91.44 %\n"
     ]
    }
   ],
   "source": [
    "new_prediction = model.predict(X_test)\n",
    "print(\"Student n°1, theorical result:\", round(float(new_prediction[0][0]), 2), \"%\")\n",
    "print(\"Student n°2, theorical result:\", round(float(new_prediction[1][0]), 2), \"%\")"
   ]
  },
  {
   "cell_type": "markdown",
   "id": "710a45d8",
   "metadata": {},
   "source": [
    "## Conclusion\n",
    "\n",
    "- The R-squared value is close to 1 (arround 0.95) => the model seems to perfom well.\n",
    "\n",
    "#### Now that you have successfully manipulated the *OVHcloud AI Notebooks* tool, it's your turn to play!"
   ]
  }
 ],
 "metadata": {
  "kernelspec": {
   "display_name": "Main Python",
   "language": "python",
   "name": "python3"
  },
  "language_info": {
   "codemirror_mode": {
    "name": "ipython",
    "version": 3
   },
   "file_extension": ".py",
   "mimetype": "text/x-python",
   "name": "python",
   "nbconvert_exporter": "python",
   "pygments_lexer": "ipython3",
   "version": "3.8.10"
  }
 },
 "nbformat": 4,
 "nbformat_minor": 5
}
